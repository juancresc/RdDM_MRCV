{
 "cells": [
  {
   "cell_type": "code",
   "execution_count": 4,
   "metadata": {},
   "outputs": [],
   "source": [
    "import pandas as pd"
   ]
  },
  {
   "cell_type": "code",
   "execution_count": 26,
   "metadata": {},
   "outputs": [],
   "source": [
    "path_dats_genes = 'data/DEG-normalized.csv'\n",
    "path_dats_srna = 'data/sRNA_DATs.csv'\n",
    "path_gff_genome = \"data/wheat.gff3\"\n",
    "path_ann = 'data/Triticum_aestivum.IWGSC.43.gff3'\n",
    "path_terms = 'data/mart_export.txt'\n",
    "path_srna = 'data/ss/ShortStack_All.gff3'"
   ]
  },
  {
   "cell_type": "code",
   "execution_count": null,
   "metadata": {},
   "outputs": [],
   "source": []
  },
  {
   "cell_type": "code",
   "execution_count": 6,
   "metadata": {},
   "outputs": [],
   "source": [
    "#load genomic coordinates\n",
    "df_genome = pd.read_csv(path_gff_genome,sep=\"\\t\", header=None)\n",
    "df_genome.columns = ['seqname' , 'source' , 'feature' , 'start' , 'end' , 'score' , 'strand' , 'frame' , 'attribute']\n",
    "g_ends = {}\n",
    "for k,v in df_genome.iterrows():\n",
    "    g_ends[v.seqname] = v.end"
   ]
  },
  {
   "cell_type": "code",
   "execution_count": 7,
   "metadata": {},
   "outputs": [
    {
     "data": {
      "text/html": [
       "<div>\n",
       "<style scoped>\n",
       "    .dataframe tbody tr th:only-of-type {\n",
       "        vertical-align: middle;\n",
       "    }\n",
       "\n",
       "    .dataframe tbody tr th {\n",
       "        vertical-align: top;\n",
       "    }\n",
       "\n",
       "    .dataframe thead th {\n",
       "        text-align: right;\n",
       "    }\n",
       "</style>\n",
       "<table border=\"1\" class=\"dataframe\">\n",
       "  <thead>\n",
       "    <tr style=\"text-align: right;\">\n",
       "      <th></th>\n",
       "      <th>seqname</th>\n",
       "      <th>source</th>\n",
       "      <th>feature</th>\n",
       "      <th>start</th>\n",
       "      <th>end</th>\n",
       "      <th>score</th>\n",
       "      <th>strand</th>\n",
       "      <th>frame</th>\n",
       "      <th>attribute</th>\n",
       "    </tr>\n",
       "  </thead>\n",
       "  <tbody>\n",
       "    <tr>\n",
       "      <th>0</th>\n",
       "      <td>1A</td>\n",
       "      <td>.</td>\n",
       "      <td>chromosome</td>\n",
       "      <td>0</td>\n",
       "      <td>594102056</td>\n",
       "      <td>.</td>\n",
       "      <td>0</td>\n",
       "      <td>.</td>\n",
       "      <td>.</td>\n",
       "    </tr>\n",
       "  </tbody>\n",
       "</table>\n",
       "</div>"
      ],
      "text/plain": [
       "  seqname source     feature  start        end score  strand frame attribute\n",
       "0      1A      .  chromosome      0  594102056     .       0     .         ."
      ]
     },
     "execution_count": 7,
     "metadata": {},
     "output_type": "execute_result"
    }
   ],
   "source": [
    "df_genome.head(1)"
   ]
  },
  {
   "cell_type": "code",
   "execution_count": 8,
   "metadata": {},
   "outputs": [
    {
     "name": "stdout",
     "output_type": "stream",
     "text": [
      "3019\n"
     ]
    },
    {
     "data": {
      "text/html": [
       "<div>\n",
       "<style scoped>\n",
       "    .dataframe tbody tr th:only-of-type {\n",
       "        vertical-align: middle;\n",
       "    }\n",
       "\n",
       "    .dataframe tbody tr th {\n",
       "        vertical-align: top;\n",
       "    }\n",
       "\n",
       "    .dataframe thead th {\n",
       "        text-align: right;\n",
       "    }\n",
       "</style>\n",
       "<table border=\"1\" class=\"dataframe\">\n",
       "  <thead>\n",
       "    <tr style=\"text-align: right;\">\n",
       "      <th></th>\n",
       "      <th>gene</th>\n",
       "      <th>baseMean</th>\n",
       "      <th>log2FoldChange</th>\n",
       "      <th>lfcSE</th>\n",
       "      <th>stat</th>\n",
       "      <th>pvalue</th>\n",
       "      <th>padj</th>\n",
       "      <th>C1.counts.txt</th>\n",
       "      <th>C2.counts.txt</th>\n",
       "      <th>C3.counts.txt</th>\n",
       "      <th>C4.counts.txt</th>\n",
       "      <th>T1.counts.txt</th>\n",
       "      <th>T2.counts.txt</th>\n",
       "      <th>T3.counts.txt</th>\n",
       "      <th>T4.counts.txt</th>\n",
       "    </tr>\n",
       "  </thead>\n",
       "  <tbody>\n",
       "    <tr>\n",
       "      <th>1</th>\n",
       "      <td>TraesCS2B02G286300</td>\n",
       "      <td>320.013057</td>\n",
       "      <td>2.445059</td>\n",
       "      <td>0.225052</td>\n",
       "      <td>10.864392</td>\n",
       "      <td>1.703534e-27</td>\n",
       "      <td>5.369907e-23</td>\n",
       "      <td>582.257421</td>\n",
       "      <td>553.695714</td>\n",
       "      <td>476.353565</td>\n",
       "      <td>549.686360</td>\n",
       "      <td>77.245985</td>\n",
       "      <td>81.333777</td>\n",
       "      <td>93.617622</td>\n",
       "      <td>145.914014</td>\n",
       "    </tr>\n",
       "    <tr>\n",
       "      <th>2</th>\n",
       "      <td>TraesCS2B02G336800</td>\n",
       "      <td>2294.525203</td>\n",
       "      <td>-2.909846</td>\n",
       "      <td>0.268059</td>\n",
       "      <td>-10.855254</td>\n",
       "      <td>1.882824e-27</td>\n",
       "      <td>5.369907e-23</td>\n",
       "      <td>532.840739</td>\n",
       "      <td>512.938938</td>\n",
       "      <td>500.171243</td>\n",
       "      <td>609.940442</td>\n",
       "      <td>4976.988116</td>\n",
       "      <td>5270.112921</td>\n",
       "      <td>2148.061490</td>\n",
       "      <td>3805.147731</td>\n",
       "    </tr>\n",
       "    <tr>\n",
       "      <th>3</th>\n",
       "      <td>TraesCS6D02G241200</td>\n",
       "      <td>191.594697</td>\n",
       "      <td>2.320181</td>\n",
       "      <td>0.223227</td>\n",
       "      <td>10.393825</td>\n",
       "      <td>2.645258e-25</td>\n",
       "      <td>5.029605e-21</td>\n",
       "      <td>300.797192</td>\n",
       "      <td>294.244042</td>\n",
       "      <td>391.999288</td>\n",
       "      <td>289.642428</td>\n",
       "      <td>71.379201</td>\n",
       "      <td>56.854679</td>\n",
       "      <td>81.272441</td>\n",
       "      <td>46.568302</td>\n",
       "    </tr>\n",
       "  </tbody>\n",
       "</table>\n",
       "</div>"
      ],
      "text/plain": [
       "                 gene     baseMean  log2FoldChange     lfcSE       stat  \\\n",
       "1  TraesCS2B02G286300   320.013057        2.445059  0.225052  10.864392   \n",
       "2  TraesCS2B02G336800  2294.525203       -2.909846  0.268059 -10.855254   \n",
       "3  TraesCS6D02G241200   191.594697        2.320181  0.223227  10.393825   \n",
       "\n",
       "         pvalue          padj  C1.counts.txt  C2.counts.txt  C3.counts.txt  \\\n",
       "1  1.703534e-27  5.369907e-23     582.257421     553.695714     476.353565   \n",
       "2  1.882824e-27  5.369907e-23     532.840739     512.938938     500.171243   \n",
       "3  2.645258e-25  5.029605e-21     300.797192     294.244042     391.999288   \n",
       "\n",
       "   C4.counts.txt  T1.counts.txt  T2.counts.txt  T3.counts.txt  T4.counts.txt  \n",
       "1     549.686360      77.245985      81.333777      93.617622     145.914014  \n",
       "2     609.940442    4976.988116    5270.112921    2148.061490    3805.147731  \n",
       "3     289.642428      71.379201      56.854679      81.272441      46.568302  "
      ]
     },
     "execution_count": 8,
     "metadata": {},
     "output_type": "execute_result"
    }
   ],
   "source": [
    "#load genes DAT\n",
    "df_dats_genes = pd.read_csv(path_dats_genes, sep=',',index_col=0)\n",
    "df_dats_genes.gene = df_dats_genes.gene.str.replace('gene:', '')\n",
    "print(len(df_dats_genes.index))\n",
    "df_dats_genes.head(3)"
   ]
  },
  {
   "cell_type": "code",
   "execution_count": 9,
   "metadata": {},
   "outputs": [
    {
     "name": "stdout",
     "output_type": "stream",
     "text": [
      "825\n",
      "up 750 down 75\n"
     ]
    },
    {
     "data": {
      "text/html": [
       "<div>\n",
       "<style scoped>\n",
       "    .dataframe tbody tr th:only-of-type {\n",
       "        vertical-align: middle;\n",
       "    }\n",
       "\n",
       "    .dataframe tbody tr th {\n",
       "        vertical-align: top;\n",
       "    }\n",
       "\n",
       "    .dataframe thead th {\n",
       "        text-align: right;\n",
       "    }\n",
       "</style>\n",
       "<table border=\"1\" class=\"dataframe\">\n",
       "  <thead>\n",
       "    <tr style=\"text-align: right;\">\n",
       "      <th></th>\n",
       "      <th>Gene</th>\n",
       "      <th>baseMean</th>\n",
       "      <th>log2FoldChange</th>\n",
       "      <th>lfcSE</th>\n",
       "      <th>stat</th>\n",
       "      <th>pvalue</th>\n",
       "      <th>padj</th>\n",
       "      <th>X21dpiR1C.trimmed</th>\n",
       "      <th>X21dpiR3C.trimmed</th>\n",
       "      <th>X21dpiR1T.trimmed</th>\n",
       "      <th>X21dpiR3T.trimmed</th>\n",
       "    </tr>\n",
       "  </thead>\n",
       "  <tbody>\n",
       "    <tr>\n",
       "      <th>0</th>\n",
       "      <td>Cluster_23214</td>\n",
       "      <td>303.283691</td>\n",
       "      <td>5.135611</td>\n",
       "      <td>0.416086</td>\n",
       "      <td>12.342659</td>\n",
       "      <td>5.336396e-35</td>\n",
       "      <td>2.054299e-30</td>\n",
       "      <td>15.575845</td>\n",
       "      <td>18.059182</td>\n",
       "      <td>688.532822</td>\n",
       "      <td>490.966913</td>\n",
       "    </tr>\n",
       "    <tr>\n",
       "      <th>1</th>\n",
       "      <td>Cluster_16294</td>\n",
       "      <td>278.503619</td>\n",
       "      <td>4.516049</td>\n",
       "      <td>0.387391</td>\n",
       "      <td>11.657590</td>\n",
       "      <td>2.098994e-31</td>\n",
       "      <td>4.040144e-27</td>\n",
       "      <td>19.729404</td>\n",
       "      <td>27.088773</td>\n",
       "      <td>591.965505</td>\n",
       "      <td>475.230794</td>\n",
       "    </tr>\n",
       "    <tr>\n",
       "      <th>2</th>\n",
       "      <td>Cluster_21247</td>\n",
       "      <td>259.538254</td>\n",
       "      <td>4.763367</td>\n",
       "      <td>0.411869</td>\n",
       "      <td>11.565251</td>\n",
       "      <td>6.181007e-31</td>\n",
       "      <td>7.931468e-27</td>\n",
       "      <td>15.575845</td>\n",
       "      <td>21.445279</td>\n",
       "      <td>579.403903</td>\n",
       "      <td>421.727990</td>\n",
       "    </tr>\n",
       "  </tbody>\n",
       "</table>\n",
       "</div>"
      ],
      "text/plain": [
       "            Gene    baseMean  log2FoldChange     lfcSE       stat  \\\n",
       "0  Cluster_23214  303.283691        5.135611  0.416086  12.342659   \n",
       "1  Cluster_16294  278.503619        4.516049  0.387391  11.657590   \n",
       "2  Cluster_21247  259.538254        4.763367  0.411869  11.565251   \n",
       "\n",
       "         pvalue          padj  X21dpiR1C.trimmed  X21dpiR3C.trimmed  \\\n",
       "0  5.336396e-35  2.054299e-30          15.575845          18.059182   \n",
       "1  2.098994e-31  4.040144e-27          19.729404          27.088773   \n",
       "2  6.181007e-31  7.931468e-27          15.575845          21.445279   \n",
       "\n",
       "   X21dpiR1T.trimmed  X21dpiR3T.trimmed  \n",
       "0         688.532822         490.966913  \n",
       "1         591.965505         475.230794  \n",
       "2         579.403903         421.727990  "
      ]
     },
     "execution_count": 9,
     "metadata": {},
     "output_type": "execute_result"
    }
   ],
   "source": [
    "#load sRNA clusters DAT\n",
    "df_dats_srna = pd.read_csv(path_dats_srna, sep=',')\n",
    "print(len(df_dats_srna.index))\n",
    "\n",
    "up = len(df_dats_srna[df_dats_srna.log2FoldChange > 0].index)\n",
    "down = len(df_dats_srna[df_dats_srna.log2FoldChange < 0].index)\n",
    "print('up',up,'down',down)\n",
    "df_dats_srna.head(3)"
   ]
  },
  {
   "cell_type": "code",
   "execution_count": null,
   "metadata": {},
   "outputs": [],
   "source": []
  },
  {
   "cell_type": "code",
   "execution_count": 14,
   "metadata": {},
   "outputs": [
    {
     "name": "stdout",
     "output_type": "stream",
     "text": [
      "1957744\n"
     ]
    }
   ],
   "source": [
    "#load all genomic features\n",
    "df_genes_features = pd.read_csv(path_ann,sep=\"\\t\", header=None, comment='#')\n",
    "df_genes_features.columns = ['seqname' , 'source' , 'feature' , 'start' , 'end' , 'score' , 'strand' , 'frame' , 'attribute']\n",
    "print(len(df_genes_features.index))\n"
   ]
  },
  {
   "cell_type": "code",
   "execution_count": 33,
   "metadata": {},
   "outputs": [
    {
     "name": "stdout",
     "output_type": "stream",
     "text": [
      "120744\n"
     ]
    }
   ],
   "source": [
    "#filter only 120k genes\n",
    "df_genes = df_genes_features[(df_genes_features.feature == 'gene') | (df_genes_features.feature == 'ncRNA_gene')]\n",
    "print(len(df_genes.index))"
   ]
  },
  {
   "cell_type": "code",
   "execution_count": 34,
   "metadata": {},
   "outputs": [
    {
     "name": "stderr",
     "output_type": "stream",
     "text": [
      "/Users/juan/Documents/venvs/bio/lib/python3.7/site-packages/ipykernel_launcher.py:2: SettingWithCopyWarning: \n",
      "A value is trying to be set on a copy of a slice from a DataFrame.\n",
      "Try using .loc[row_indexer,col_indexer] = value instead\n",
      "\n",
      "See the caveats in the documentation: http://pandas.pydata.org/pandas-docs/stable/indexing.html#indexing-view-versus-copy\n",
      "  \n",
      "/Users/juan/Documents/venvs/bio/lib/python3.7/site-packages/ipykernel_launcher.py:3: SettingWithCopyWarning: \n",
      "A value is trying to be set on a copy of a slice from a DataFrame.\n",
      "Try using .loc[row_indexer,col_indexer] = value instead\n",
      "\n",
      "See the caveats in the documentation: http://pandas.pydata.org/pandas-docs/stable/indexing.html#indexing-view-versus-copy\n",
      "  This is separate from the ipykernel package so we can avoid doing imports until\n"
     ]
    },
    {
     "data": {
      "text/html": [
       "<div>\n",
       "<style scoped>\n",
       "    .dataframe tbody tr th:only-of-type {\n",
       "        vertical-align: middle;\n",
       "    }\n",
       "\n",
       "    .dataframe tbody tr th {\n",
       "        vertical-align: top;\n",
       "    }\n",
       "\n",
       "    .dataframe thead th {\n",
       "        text-align: right;\n",
       "    }\n",
       "</style>\n",
       "<table border=\"1\" class=\"dataframe\">\n",
       "  <thead>\n",
       "    <tr style=\"text-align: right;\">\n",
       "      <th></th>\n",
       "      <th>seqname</th>\n",
       "      <th>source</th>\n",
       "      <th>feature</th>\n",
       "      <th>start</th>\n",
       "      <th>end</th>\n",
       "      <th>score</th>\n",
       "      <th>strand</th>\n",
       "      <th>frame</th>\n",
       "      <th>attribute</th>\n",
       "      <th>gene</th>\n",
       "    </tr>\n",
       "  </thead>\n",
       "  <tbody>\n",
       "    <tr>\n",
       "      <th>1</th>\n",
       "      <td>1A</td>\n",
       "      <td>Ensembl_Plants</td>\n",
       "      <td>ncRNA_gene</td>\n",
       "      <td>200</td>\n",
       "      <td>1683</td>\n",
       "      <td>.</td>\n",
       "      <td>+</td>\n",
       "      <td>.</td>\n",
       "      <td>ID=gene:ENSRNA050013875;Name=LSU_rRNA_eukarya;...</td>\n",
       "      <td>ENSRNA050013875</td>\n",
       "    </tr>\n",
       "    <tr>\n",
       "      <th>4</th>\n",
       "      <td>1A</td>\n",
       "      <td>Ensembl_Plants</td>\n",
       "      <td>ncRNA_gene</td>\n",
       "      <td>5023</td>\n",
       "      <td>6833</td>\n",
       "      <td>.</td>\n",
       "      <td>+</td>\n",
       "      <td>.</td>\n",
       "      <td>ID=gene:ENSRNA050013847;Name=SSU_rRNA_eukarya;...</td>\n",
       "      <td>ENSRNA050013847</td>\n",
       "    </tr>\n",
       "  </tbody>\n",
       "</table>\n",
       "</div>"
      ],
      "text/plain": [
       "  seqname          source     feature  start   end score strand frame  \\\n",
       "1      1A  Ensembl_Plants  ncRNA_gene    200  1683     .      +     .   \n",
       "4      1A  Ensembl_Plants  ncRNA_gene   5023  6833     .      +     .   \n",
       "\n",
       "                                           attribute             gene  \n",
       "1  ID=gene:ENSRNA050013875;Name=LSU_rRNA_eukarya;...  ENSRNA050013875  \n",
       "4  ID=gene:ENSRNA050013847;Name=SSU_rRNA_eukarya;...  ENSRNA050013847  "
      ]
     },
     "execution_count": 34,
     "metadata": {},
     "output_type": "execute_result"
    }
   ],
   "source": [
    "#get gene name in annotation\n",
    "df_genes['gene'] = df_genes.attribute.str.split('gene:').str[1]\n",
    "df_genes['gene'] = df_genes.gene.str.split(';').str[0]\n",
    "df_genes.head(2)"
   ]
  },
  {
   "cell_type": "code",
   "execution_count": 35,
   "metadata": {},
   "outputs": [
    {
     "data": {
      "text/plain": [
       "3019"
      ]
     },
     "execution_count": 35,
     "metadata": {},
     "output_type": "execute_result"
    }
   ],
   "source": [
    "df_dat_gene_list = df_dats_genes.gene.tolist()\n",
    "len(df_dat_gene_list)"
   ]
  },
  {
   "cell_type": "code",
   "execution_count": 36,
   "metadata": {},
   "outputs": [
    {
     "name": "stdout",
     "output_type": "stream",
     "text": [
      "3019\n"
     ]
    }
   ],
   "source": [
    "df_genes = df_genes[df_genes.gene.isin(df_dat_gene_list)]\n",
    "print(len(df_genes.index))"
   ]
  },
  {
   "cell_type": "code",
   "execution_count": 37,
   "metadata": {},
   "outputs": [
    {
     "data": {
      "text/html": [
       "<div>\n",
       "<style scoped>\n",
       "    .dataframe tbody tr th:only-of-type {\n",
       "        vertical-align: middle;\n",
       "    }\n",
       "\n",
       "    .dataframe tbody tr th {\n",
       "        vertical-align: top;\n",
       "    }\n",
       "\n",
       "    .dataframe thead th {\n",
       "        text-align: right;\n",
       "    }\n",
       "</style>\n",
       "<table border=\"1\" class=\"dataframe\">\n",
       "  <thead>\n",
       "    <tr style=\"text-align: right;\">\n",
       "      <th></th>\n",
       "      <th>seqname</th>\n",
       "      <th>source</th>\n",
       "      <th>feature</th>\n",
       "      <th>start</th>\n",
       "      <th>end</th>\n",
       "      <th>score</th>\n",
       "      <th>strand</th>\n",
       "      <th>frame</th>\n",
       "      <th>attribute</th>\n",
       "      <th>gene</th>\n",
       "    </tr>\n",
       "  </thead>\n",
       "  <tbody>\n",
       "    <tr>\n",
       "      <th>735</th>\n",
       "      <td>1A</td>\n",
       "      <td>IWGSC</td>\n",
       "      <td>gene</td>\n",
       "      <td>1188844</td>\n",
       "      <td>1190864</td>\n",
       "      <td>.</td>\n",
       "      <td>+</td>\n",
       "      <td>.</td>\n",
       "      <td>ID=gene:TraesCS1A02G002200;biotype=protein_cod...</td>\n",
       "      <td>TraesCS1A02G002200</td>\n",
       "    </tr>\n",
       "  </tbody>\n",
       "</table>\n",
       "</div>"
      ],
      "text/plain": [
       "    seqname source feature    start      end score strand frame  \\\n",
       "735      1A  IWGSC    gene  1188844  1190864     .      +     .   \n",
       "\n",
       "                                             attribute                gene  \n",
       "735  ID=gene:TraesCS1A02G002200;biotype=protein_cod...  TraesCS1A02G002200  "
      ]
     },
     "execution_count": 37,
     "metadata": {},
     "output_type": "execute_result"
    }
   ],
   "source": [
    "df_genes.head(1)"
   ]
  },
  {
   "cell_type": "code",
   "execution_count": 38,
   "metadata": {},
   "outputs": [
    {
     "name": "stdout",
     "output_type": "stream",
     "text": [
      "371521\n"
     ]
    }
   ],
   "source": [
    "#load GO terms\n",
    "df_terms = pd.read_csv(path_terms,sep=\"\\t\", comment='#')\n",
    "print(len(df_terms.index))\n"
   ]
  },
  {
   "cell_type": "code",
   "execution_count": 39,
   "metadata": {},
   "outputs": [
    {
     "data": {
      "text/html": [
       "<div>\n",
       "<style scoped>\n",
       "    .dataframe tbody tr th:only-of-type {\n",
       "        vertical-align: middle;\n",
       "    }\n",
       "\n",
       "    .dataframe tbody tr th {\n",
       "        vertical-align: top;\n",
       "    }\n",
       "\n",
       "    .dataframe thead th {\n",
       "        text-align: right;\n",
       "    }\n",
       "</style>\n",
       "<table border=\"1\" class=\"dataframe\">\n",
       "  <thead>\n",
       "    <tr style=\"text-align: right;\">\n",
       "      <th></th>\n",
       "      <th>Gene stable ID</th>\n",
       "      <th>GO term definition</th>\n",
       "      <th>GO term accession</th>\n",
       "      <th>GO term name</th>\n",
       "    </tr>\n",
       "  </thead>\n",
       "  <tbody>\n",
       "    <tr>\n",
       "      <th>0</th>\n",
       "      <td>TraesCS4A02G403700</td>\n",
       "      <td>NaN</td>\n",
       "      <td>NaN</td>\n",
       "      <td>NaN</td>\n",
       "    </tr>\n",
       "    <tr>\n",
       "      <th>1</th>\n",
       "      <td>TraesCS3A02G154800</td>\n",
       "      <td>Catalysis of the reaction: acyl-CoA + H2O = Co...</td>\n",
       "      <td>GO:0047617</td>\n",
       "      <td>acyl-CoA hydrolase activity</td>\n",
       "    </tr>\n",
       "    <tr>\n",
       "      <th>2</th>\n",
       "      <td>TraesCS2B02G516800</td>\n",
       "      <td>Catalysis of the hydrolysis of any O-glycosyl ...</td>\n",
       "      <td>GO:0004553</td>\n",
       "      <td>hydrolase activity, hydrolyzing O-glycosyl com...</td>\n",
       "    </tr>\n",
       "  </tbody>\n",
       "</table>\n",
       "</div>"
      ],
      "text/plain": [
       "       Gene stable ID                                 GO term definition  \\\n",
       "0  TraesCS4A02G403700                                                NaN   \n",
       "1  TraesCS3A02G154800  Catalysis of the reaction: acyl-CoA + H2O = Co...   \n",
       "2  TraesCS2B02G516800  Catalysis of the hydrolysis of any O-glycosyl ...   \n",
       "\n",
       "  GO term accession                                       GO term name  \n",
       "0               NaN                                                NaN  \n",
       "1        GO:0047617                        acyl-CoA hydrolase activity  \n",
       "2        GO:0004553  hydrolase activity, hydrolyzing O-glycosyl com...  "
      ]
     },
     "execution_count": 39,
     "metadata": {},
     "output_type": "execute_result"
    }
   ],
   "source": [
    "df_terms.head(3)"
   ]
  },
  {
   "cell_type": "code",
   "execution_count": 45,
   "metadata": {},
   "outputs": [],
   "source": [
    "df_genes_annotated = pd.merge(df_genes, df_terms,how='left',left_on='gene',right_on='Gene stable ID')"
   ]
  },
  {
   "cell_type": "code",
   "execution_count": 46,
   "metadata": {},
   "outputs": [
    {
     "name": "stdout",
     "output_type": "stream",
     "text": [
      "13190\n"
     ]
    }
   ],
   "source": [
    "print(len(df_genes_annotated.index))"
   ]
  },
  {
   "cell_type": "code",
   "execution_count": null,
   "metadata": {},
   "outputs": [],
   "source": [
    "df_genes_annotated.groupby('GO term name').count()"
   ]
  },
  {
   "cell_type": "code",
   "execution_count": null,
   "metadata": {},
   "outputs": [],
   "source": []
  },
  {
   "cell_type": "code",
   "execution_count": 16,
   "metadata": {},
   "outputs": [
    {
     "name": "stdout",
     "output_type": "stream",
     "text": [
      "38496\n"
     ]
    }
   ],
   "source": [
    "#load all sRNA clusters\n",
    "df_srna = pd.read_csv(path_srna,sep=\"\\t\", header=None, comment='#')\n",
    "df_srna.columns = ['seqname' , 'source' , 'feature' , 'start' , 'end' , 'score' , 'strand' , 'frame' , 'attribute']\n",
    "print(len(df_srna.index))\n"
   ]
  },
  {
   "cell_type": "code",
   "execution_count": 19,
   "metadata": {},
   "outputs": [
    {
     "data": {
      "text/html": [
       "<div>\n",
       "<style scoped>\n",
       "    .dataframe tbody tr th:only-of-type {\n",
       "        vertical-align: middle;\n",
       "    }\n",
       "\n",
       "    .dataframe tbody tr th {\n",
       "        vertical-align: top;\n",
       "    }\n",
       "\n",
       "    .dataframe thead th {\n",
       "        text-align: right;\n",
       "    }\n",
       "</style>\n",
       "<table border=\"1\" class=\"dataframe\">\n",
       "  <thead>\n",
       "    <tr style=\"text-align: right;\">\n",
       "      <th></th>\n",
       "      <th>seqname</th>\n",
       "      <th>source</th>\n",
       "      <th>feature</th>\n",
       "      <th>start</th>\n",
       "      <th>end</th>\n",
       "      <th>score</th>\n",
       "      <th>strand</th>\n",
       "      <th>frame</th>\n",
       "      <th>attribute</th>\n",
       "      <th>cluster</th>\n",
       "    </tr>\n",
       "  </thead>\n",
       "  <tbody>\n",
       "    <tr>\n",
       "      <th>0</th>\n",
       "      <td>1A</td>\n",
       "      <td>ShortStack</td>\n",
       "      <td>nc_RNA</td>\n",
       "      <td>209</td>\n",
       "      <td>460</td>\n",
       "      <td>.</td>\n",
       "      <td>+</td>\n",
       "      <td>.</td>\n",
       "      <td>ID=Cluster_1;DicerCall=N;MIRNA=N;</td>\n",
       "      <td>NaN</td>\n",
       "    </tr>\n",
       "    <tr>\n",
       "      <th>1</th>\n",
       "      <td>1A</td>\n",
       "      <td>ShortStack</td>\n",
       "      <td>nc_RNA</td>\n",
       "      <td>688</td>\n",
       "      <td>753</td>\n",
       "      <td>.</td>\n",
       "      <td>+</td>\n",
       "      <td>.</td>\n",
       "      <td>ID=Cluster_2;DicerCall=N;MIRNA=N;</td>\n",
       "      <td>NaN</td>\n",
       "    </tr>\n",
       "    <tr>\n",
       "      <th>2</th>\n",
       "      <td>1A</td>\n",
       "      <td>ShortStack</td>\n",
       "      <td>nc_RNA</td>\n",
       "      <td>5808</td>\n",
       "      <td>6115</td>\n",
       "      <td>.</td>\n",
       "      <td>+</td>\n",
       "      <td>.</td>\n",
       "      <td>ID=Cluster_3;DicerCall=N;MIRNA=N;</td>\n",
       "      <td>NaN</td>\n",
       "    </tr>\n",
       "  </tbody>\n",
       "</table>\n",
       "</div>"
      ],
      "text/plain": [
       "  seqname      source feature  start   end score strand frame  \\\n",
       "0      1A  ShortStack  nc_RNA    209   460     .      +     .   \n",
       "1      1A  ShortStack  nc_RNA    688   753     .      +     .   \n",
       "2      1A  ShortStack  nc_RNA   5808  6115     .      +     .   \n",
       "\n",
       "                           attribute  cluster  \n",
       "0  ID=Cluster_1;DicerCall=N;MIRNA=N;      NaN  \n",
       "1  ID=Cluster_2;DicerCall=N;MIRNA=N;      NaN  \n",
       "2  ID=Cluster_3;DicerCall=N;MIRNA=N;      NaN  "
      ]
     },
     "execution_count": 19,
     "metadata": {},
     "output_type": "execute_result"
    }
   ],
   "source": [
    "df_srna.head(3)"
   ]
  },
  {
   "cell_type": "code",
   "execution_count": 20,
   "metadata": {},
   "outputs": [
    {
     "data": {
      "text/html": [
       "<div>\n",
       "<style scoped>\n",
       "    .dataframe tbody tr th:only-of-type {\n",
       "        vertical-align: middle;\n",
       "    }\n",
       "\n",
       "    .dataframe tbody tr th {\n",
       "        vertical-align: top;\n",
       "    }\n",
       "\n",
       "    .dataframe thead th {\n",
       "        text-align: right;\n",
       "    }\n",
       "</style>\n",
       "<table border=\"1\" class=\"dataframe\">\n",
       "  <thead>\n",
       "    <tr style=\"text-align: right;\">\n",
       "      <th></th>\n",
       "      <th>seqname</th>\n",
       "      <th>source</th>\n",
       "      <th>feature</th>\n",
       "      <th>start</th>\n",
       "      <th>end</th>\n",
       "      <th>score</th>\n",
       "      <th>strand</th>\n",
       "      <th>frame</th>\n",
       "      <th>attribute</th>\n",
       "      <th>cluster</th>\n",
       "    </tr>\n",
       "  </thead>\n",
       "  <tbody>\n",
       "    <tr>\n",
       "      <th>0</th>\n",
       "      <td>1A</td>\n",
       "      <td>ShortStack</td>\n",
       "      <td>nc_RNA</td>\n",
       "      <td>209</td>\n",
       "      <td>460</td>\n",
       "      <td>.</td>\n",
       "      <td>+</td>\n",
       "      <td>.</td>\n",
       "      <td>ID=Cluster_1;DicerCall=N;MIRNA=N;</td>\n",
       "      <td>Cluster_1</td>\n",
       "    </tr>\n",
       "    <tr>\n",
       "      <th>1</th>\n",
       "      <td>1A</td>\n",
       "      <td>ShortStack</td>\n",
       "      <td>nc_RNA</td>\n",
       "      <td>688</td>\n",
       "      <td>753</td>\n",
       "      <td>.</td>\n",
       "      <td>+</td>\n",
       "      <td>.</td>\n",
       "      <td>ID=Cluster_2;DicerCall=N;MIRNA=N;</td>\n",
       "      <td>Cluster_2</td>\n",
       "    </tr>\n",
       "  </tbody>\n",
       "</table>\n",
       "</div>"
      ],
      "text/plain": [
       "  seqname      source feature  start  end score strand frame  \\\n",
       "0      1A  ShortStack  nc_RNA    209  460     .      +     .   \n",
       "1      1A  ShortStack  nc_RNA    688  753     .      +     .   \n",
       "\n",
       "                           attribute    cluster  \n",
       "0  ID=Cluster_1;DicerCall=N;MIRNA=N;  Cluster_1  \n",
       "1  ID=Cluster_2;DicerCall=N;MIRNA=N;  Cluster_2  "
      ]
     },
     "execution_count": 20,
     "metadata": {},
     "output_type": "execute_result"
    }
   ],
   "source": [
    "#get cluster name in annotation\n",
    "df_srna['cluster'] = df_srna.attribute.str.split('ID=').str[1]\n",
    "df_srna['cluster'] = df_srna.cluster.str.split(';').str[0]\n",
    "df_srna.head(2)"
   ]
  },
  {
   "cell_type": "code",
   "execution_count": 49,
   "metadata": {},
   "outputs": [],
   "source": [
    "dats_srna_list = df_dats_srna.Gene.tolist()"
   ]
  },
  {
   "cell_type": "code",
   "execution_count": 50,
   "metadata": {},
   "outputs": [
    {
     "name": "stdout",
     "output_type": "stream",
     "text": [
      "825\n"
     ]
    }
   ],
   "source": [
    "df_srna = df_srna[df_srna.cluster.isin(dats_srna_list)]\n",
    "print(len(df_srna.index))"
   ]
  },
  {
   "cell_type": "code",
   "execution_count": 51,
   "metadata": {},
   "outputs": [
    {
     "data": {
      "text/html": [
       "<div>\n",
       "<style scoped>\n",
       "    .dataframe tbody tr th:only-of-type {\n",
       "        vertical-align: middle;\n",
       "    }\n",
       "\n",
       "    .dataframe tbody tr th {\n",
       "        vertical-align: top;\n",
       "    }\n",
       "\n",
       "    .dataframe thead th {\n",
       "        text-align: right;\n",
       "    }\n",
       "</style>\n",
       "<table border=\"1\" class=\"dataframe\">\n",
       "  <thead>\n",
       "    <tr style=\"text-align: right;\">\n",
       "      <th></th>\n",
       "      <th>seqname</th>\n",
       "      <th>source</th>\n",
       "      <th>feature</th>\n",
       "      <th>start</th>\n",
       "      <th>end</th>\n",
       "      <th>score</th>\n",
       "      <th>strand</th>\n",
       "      <th>frame</th>\n",
       "      <th>attribute</th>\n",
       "      <th>cluster</th>\n",
       "    </tr>\n",
       "  </thead>\n",
       "  <tbody>\n",
       "    <tr>\n",
       "      <th>22</th>\n",
       "      <td>1A</td>\n",
       "      <td>ShortStack</td>\n",
       "      <td>nc_RNA</td>\n",
       "      <td>38115</td>\n",
       "      <td>38988</td>\n",
       "      <td>.</td>\n",
       "      <td>+</td>\n",
       "      <td>.</td>\n",
       "      <td>ID=Cluster_23;DicerCall=N;MIRNA=N;</td>\n",
       "      <td>Cluster_23</td>\n",
       "    </tr>\n",
       "    <tr>\n",
       "      <th>34</th>\n",
       "      <td>1A</td>\n",
       "      <td>ShortStack</td>\n",
       "      <td>nc_RNA</td>\n",
       "      <td>57191</td>\n",
       "      <td>58107</td>\n",
       "      <td>.</td>\n",
       "      <td>+</td>\n",
       "      <td>.</td>\n",
       "      <td>ID=Cluster_35;DicerCall=N;MIRNA=N;</td>\n",
       "      <td>Cluster_35</td>\n",
       "    </tr>\n",
       "    <tr>\n",
       "      <th>52</th>\n",
       "      <td>1A</td>\n",
       "      <td>ShortStack</td>\n",
       "      <td>nc_RNA</td>\n",
       "      <td>101290</td>\n",
       "      <td>101565</td>\n",
       "      <td>.</td>\n",
       "      <td>+</td>\n",
       "      <td>.</td>\n",
       "      <td>ID=Cluster_53;DicerCall=N;MIRNA=N;</td>\n",
       "      <td>Cluster_53</td>\n",
       "    </tr>\n",
       "  </tbody>\n",
       "</table>\n",
       "</div>"
      ],
      "text/plain": [
       "   seqname      source feature   start     end score strand frame  \\\n",
       "22      1A  ShortStack  nc_RNA   38115   38988     .      +     .   \n",
       "34      1A  ShortStack  nc_RNA   57191   58107     .      +     .   \n",
       "52      1A  ShortStack  nc_RNA  101290  101565     .      +     .   \n",
       "\n",
       "                             attribute     cluster  \n",
       "22  ID=Cluster_23;DicerCall=N;MIRNA=N;  Cluster_23  \n",
       "34  ID=Cluster_35;DicerCall=N;MIRNA=N;  Cluster_35  \n",
       "52  ID=Cluster_53;DicerCall=N;MIRNA=N;  Cluster_53  "
      ]
     },
     "execution_count": 51,
     "metadata": {},
     "output_type": "execute_result"
    }
   ],
   "source": [
    "df_srna.head(3)"
   ]
  },
  {
   "cell_type": "code",
   "execution_count": null,
   "metadata": {},
   "outputs": [],
   "source": [
    "#merge DATs genes with DAT clusters\n",
    "span = 1500\n",
    "gene_cluster = []\n",
    "gene_overlapped = []\n",
    "for k_g,v_g in df_genes.iterrows():\n",
    "    g_start = max(0, v_g.start - span)\n",
    "    g_end = min(g_ends[v_g.seqname], v_g.end + span)\n",
    "    for k_s, v_s in df_srna.iterrows():\n",
    "        s_start = v_s.start\n",
    "        s_end = v_s.end\n",
    "        if s_end >= g_start and s_start <= g_end:\n",
    "            print(v_g.gene, g_start, g_end, v_s.cluster, s_start, s_end)\n",
    "            gene_cluster.append( (v_g.gene, v_s.cluster) )\n",
    "            gene_overlapped.append(v_g.gene)"
   ]
  },
  {
   "cell_type": "code",
   "execution_count": null,
   "metadata": {},
   "outputs": [],
   "source": []
  },
  {
   "cell_type": "code",
   "execution_count": 64,
   "metadata": {},
   "outputs": [],
   "source": [
    "df_genes_with_clusters = df_genes_annotated[df_genes_annotated.gene.isin(gene_overlapped)]"
   ]
  },
  {
   "cell_type": "code",
   "execution_count": 70,
   "metadata": {},
   "outputs": [
    {
     "data": {
      "text/plain": [
       "oxidation-reduction process                                                                                                      11\n",
       "protein binding                                                                                                                   8\n",
       "oxidoreductase activity                                                                                                           8\n",
       "membrane                                                                                                                          8\n",
       "oxylipin biosynthetic process                                                                                                     7\n",
       "dioxygenase activity                                                                                                              7\n",
       "oxidoreductase activity, acting on single donors with incorporation of molecular oxygen, incorporation of two atoms of oxygen     7\n",
       "metal ion binding                                                                                                                 7\n",
       "fatty acid biosynthetic process                                                                                                   7\n",
       "integral component of membrane                                                                                                    6\n",
       "GTPase activity                                                                                                                   5\n",
       "structural constituent of cytoskeleton                                                                                            5\n",
       "microtubule                                                                                                                       5\n",
       "cytoskeleton organization                                                                                                         5\n",
       "microtubule-based process                                                                                                         5\n",
       "cytoskeleton                                                                                                                      5\n",
       "GTP binding                                                                                                                       5\n",
       "nucleotide binding                                                                                                                5\n",
       "cytoplasm                                                                                                                         5\n",
       "transferase activity, transferring phosphorus-containing groups                                                                   4\n",
       "lipid metabolic process                                                                                                           4\n",
       "phosphatidate cytidylyltransferase activity                                                                                       3\n",
       "DNA binding                                                                                                                       3\n",
       "transferase activity                                                                                                              3\n",
       "methyltransferase activity                                                                                                        2\n",
       "nucleotidyltransferase activity                                                                                                   2\n",
       "iron ion binding                                                                                                                  2\n",
       "methylation                                                                                                                       2\n",
       "NAD binding                                                                                                                       2\n",
       "catalytic activity                                                                                                                2\n",
       "                                                                                                                                 ..\n",
       "mitochondrion                                                                                                                     1\n",
       "chloroplast                                                                                                                       1\n",
       "UTP biosynthetic process                                                                                                          1\n",
       "ADP binding                                                                                                                       1\n",
       "nucleoside diphosphate phosphorylation                                                                                            1\n",
       "regulation of monopolar cell growth                                                                                               1\n",
       "L-serine biosynthetic process                                                                                                     1\n",
       "transferase activity, transferring glycosyl groups                                                                                1\n",
       "proteolysis                                                                                                                       1\n",
       "dephosphorylation                                                                                                                 1\n",
       "translation                                                                                                                       1\n",
       "transmembrane transporter activity                                                                                                1\n",
       "protein phosphorylation                                                                                                           1\n",
       "pteridine-containing compound metabolic process                                                                                   1\n",
       "ATP binding                                                                                                                       1\n",
       "protein kinase activity                                                                                                           1\n",
       "NAD+ ADP-ribosyltransferase activity                                                                                              1\n",
       "ribosome                                                                                                                          1\n",
       "small ribosomal subunit                                                                                                           1\n",
       "regulation of transcription, DNA-templated                                                                                        1\n",
       "serine-type endopeptidase activity                                                                                                1\n",
       "structural constituent of ribosome                                                                                                1\n",
       "chloroplast envelope                                                                                                              1\n",
       "cellular amino acid biosynthetic process                                                                                          1\n",
       "lipid binding                                                                                                                     1\n",
       "lipid transport                                                                                                                   1\n",
       "CTP biosynthetic process                                                                                                          1\n",
       "plastid                                                                                                                           1\n",
       "channel activity                                                                                                                  1\n",
       "hydrolase activity                                                                                                                1\n",
       "Name: GO term name, Length: 77, dtype: int64"
      ]
     },
     "execution_count": 70,
     "metadata": {},
     "output_type": "execute_result"
    }
   ],
   "source": [
    "df_genes_with_clusters['GO term name'].value_counts()"
   ]
  },
  {
   "cell_type": "code",
   "execution_count": null,
   "metadata": {},
   "outputs": [],
   "source": []
  }
 ],
 "metadata": {
  "kernelspec": {
   "display_name": "Python 3",
   "language": "python",
   "name": "python3"
  },
  "language_info": {
   "codemirror_mode": {
    "name": "ipython",
    "version": 3
   },
   "file_extension": ".py",
   "mimetype": "text/x-python",
   "name": "python",
   "nbconvert_exporter": "python",
   "pygments_lexer": "ipython3",
   "version": "3.7.3"
  }
 },
 "nbformat": 4,
 "nbformat_minor": 2
}
