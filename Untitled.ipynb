{
 "cells": [
  {
   "cell_type": "code",
   "execution_count": 1,
   "metadata": {},
   "outputs": [],
   "source": [
    "import pandas as pd"
   ]
  },
  {
   "cell_type": "code",
   "execution_count": 2,
   "metadata": {},
   "outputs": [],
   "source": [
    "path_dats_genes = 'data/DEG-normalized.csv'\n",
    "path_dats_srna = 'data/sRNA_DATs.csv'\n",
    "path_gff_genome = \"data/wheat.gff3\"\n",
    "path_ann = 'data/introns.gff3'\n",
    "path_terms = 'data/mart_export.txt'\n",
    "path_srna = 'data/ss/ShortStack_All.gff3'"
   ]
  },
  {
   "cell_type": "code",
   "execution_count": null,
   "metadata": {},
   "outputs": [],
   "source": []
  },
  {
   "cell_type": "code",
   "execution_count": 3,
   "metadata": {},
   "outputs": [],
   "source": [
    "#load genomic coordinates\n",
    "df_genome = pd.read_csv(path_gff_genome,sep=\"\\t\", header=None)\n",
    "df_genome.columns = ['seqname' , 'source' , 'feature' , 'start' , 'end' , 'score' , 'strand' , 'frame' , 'attribute']\n",
    "g_ends = {}\n",
    "for k,v in df_genome.iterrows():\n",
    "    g_ends[v.seqname] = v.end"
   ]
  },
  {
   "cell_type": "code",
   "execution_count": 4,
   "metadata": {},
   "outputs": [
    {
     "data": {
      "text/html": [
       "<div>\n",
       "<style scoped>\n",
       "    .dataframe tbody tr th:only-of-type {\n",
       "        vertical-align: middle;\n",
       "    }\n",
       "\n",
       "    .dataframe tbody tr th {\n",
       "        vertical-align: top;\n",
       "    }\n",
       "\n",
       "    .dataframe thead th {\n",
       "        text-align: right;\n",
       "    }\n",
       "</style>\n",
       "<table border=\"1\" class=\"dataframe\">\n",
       "  <thead>\n",
       "    <tr style=\"text-align: right;\">\n",
       "      <th></th>\n",
       "      <th>seqname</th>\n",
       "      <th>source</th>\n",
       "      <th>feature</th>\n",
       "      <th>start</th>\n",
       "      <th>end</th>\n",
       "      <th>score</th>\n",
       "      <th>strand</th>\n",
       "      <th>frame</th>\n",
       "      <th>attribute</th>\n",
       "    </tr>\n",
       "  </thead>\n",
       "  <tbody>\n",
       "    <tr>\n",
       "      <th>0</th>\n",
       "      <td>1A</td>\n",
       "      <td>.</td>\n",
       "      <td>chromosome</td>\n",
       "      <td>0</td>\n",
       "      <td>594102056</td>\n",
       "      <td>.</td>\n",
       "      <td>0</td>\n",
       "      <td>.</td>\n",
       "      <td>.</td>\n",
       "    </tr>\n",
       "  </tbody>\n",
       "</table>\n",
       "</div>"
      ],
      "text/plain": [
       "  seqname source      feature  start        end score  strand frame attribute\n",
       "0      1A      .   chromosome      0  594102056     .       0     .         ."
      ]
     },
     "execution_count": 4,
     "metadata": {},
     "output_type": "execute_result"
    }
   ],
   "source": [
    "df_genome.head(1)"
   ]
  },
  {
   "cell_type": "code",
   "execution_count": 5,
   "metadata": {},
   "outputs": [
    {
     "name": "stdout",
     "output_type": "stream",
     "text": [
      "3019\n"
     ]
    },
    {
     "data": {
      "text/html": [
       "<div>\n",
       "<style scoped>\n",
       "    .dataframe tbody tr th:only-of-type {\n",
       "        vertical-align: middle;\n",
       "    }\n",
       "\n",
       "    .dataframe tbody tr th {\n",
       "        vertical-align: top;\n",
       "    }\n",
       "\n",
       "    .dataframe thead th {\n",
       "        text-align: right;\n",
       "    }\n",
       "</style>\n",
       "<table border=\"1\" class=\"dataframe\">\n",
       "  <thead>\n",
       "    <tr style=\"text-align: right;\">\n",
       "      <th></th>\n",
       "      <th>gene</th>\n",
       "      <th>baseMean</th>\n",
       "      <th>log2FoldChange</th>\n",
       "      <th>lfcSE</th>\n",
       "      <th>stat</th>\n",
       "      <th>pvalue</th>\n",
       "      <th>padj</th>\n",
       "      <th>C1.counts.txt</th>\n",
       "      <th>C2.counts.txt</th>\n",
       "      <th>C3.counts.txt</th>\n",
       "      <th>C4.counts.txt</th>\n",
       "      <th>T1.counts.txt</th>\n",
       "      <th>T2.counts.txt</th>\n",
       "      <th>T3.counts.txt</th>\n",
       "      <th>T4.counts.txt</th>\n",
       "    </tr>\n",
       "  </thead>\n",
       "  <tbody>\n",
       "    <tr>\n",
       "      <th>1</th>\n",
       "      <td>TraesCS2B02G286300</td>\n",
       "      <td>320.013057</td>\n",
       "      <td>-2.445058</td>\n",
       "      <td>0.225052</td>\n",
       "      <td>-10.864391</td>\n",
       "      <td>1.703566e-27</td>\n",
       "      <td>5.369742e-23</td>\n",
       "      <td>582.257421</td>\n",
       "      <td>553.695714</td>\n",
       "      <td>476.353565</td>\n",
       "      <td>549.686360</td>\n",
       "      <td>77.245985</td>\n",
       "      <td>81.333777</td>\n",
       "      <td>93.617622</td>\n",
       "      <td>145.914014</td>\n",
       "    </tr>\n",
       "    <tr>\n",
       "      <th>2</th>\n",
       "      <td>TraesCS2B02G336800</td>\n",
       "      <td>2294.525203</td>\n",
       "      <td>2.909847</td>\n",
       "      <td>0.268059</td>\n",
       "      <td>10.855257</td>\n",
       "      <td>1.882766e-27</td>\n",
       "      <td>5.369742e-23</td>\n",
       "      <td>532.840739</td>\n",
       "      <td>512.938938</td>\n",
       "      <td>500.171243</td>\n",
       "      <td>609.940442</td>\n",
       "      <td>4976.988116</td>\n",
       "      <td>5270.112921</td>\n",
       "      <td>2148.061490</td>\n",
       "      <td>3805.147731</td>\n",
       "    </tr>\n",
       "    <tr>\n",
       "      <th>3</th>\n",
       "      <td>TraesCS6D02G241200</td>\n",
       "      <td>191.594697</td>\n",
       "      <td>-2.320181</td>\n",
       "      <td>0.223227</td>\n",
       "      <td>-10.393824</td>\n",
       "      <td>2.645301e-25</td>\n",
       "      <td>5.029687e-21</td>\n",
       "      <td>300.797192</td>\n",
       "      <td>294.244042</td>\n",
       "      <td>391.999288</td>\n",
       "      <td>289.642428</td>\n",
       "      <td>71.379201</td>\n",
       "      <td>56.854679</td>\n",
       "      <td>81.272441</td>\n",
       "      <td>46.568302</td>\n",
       "    </tr>\n",
       "  </tbody>\n",
       "</table>\n",
       "</div>"
      ],
      "text/plain": [
       "                 gene     baseMean  log2FoldChange     lfcSE       stat  \\\n",
       "1  TraesCS2B02G286300   320.013057       -2.445058  0.225052 -10.864391   \n",
       "2  TraesCS2B02G336800  2294.525203        2.909847  0.268059  10.855257   \n",
       "3  TraesCS6D02G241200   191.594697       -2.320181  0.223227 -10.393824   \n",
       "\n",
       "         pvalue          padj  C1.counts.txt  C2.counts.txt  C3.counts.txt  \\\n",
       "1  1.703566e-27  5.369742e-23     582.257421     553.695714     476.353565   \n",
       "2  1.882766e-27  5.369742e-23     532.840739     512.938938     500.171243   \n",
       "3  2.645301e-25  5.029687e-21     300.797192     294.244042     391.999288   \n",
       "\n",
       "   C4.counts.txt  T1.counts.txt  T2.counts.txt  T3.counts.txt  T4.counts.txt  \n",
       "1     549.686360      77.245985      81.333777      93.617622     145.914014  \n",
       "2     609.940442    4976.988116    5270.112921    2148.061490    3805.147731  \n",
       "3     289.642428      71.379201      56.854679      81.272441      46.568302  "
      ]
     },
     "execution_count": 5,
     "metadata": {},
     "output_type": "execute_result"
    }
   ],
   "source": [
    "#load genes DAT\n",
    "df_dats_genes = pd.read_csv(path_dats_genes, sep=',',index_col=0)\n",
    "df_dats_genes.gene = df_dats_genes.gene.str.replace('gene:', '')\n",
    "print(len(df_dats_genes.index))\n",
    "df_dats_genes.head(3)"
   ]
  },
  {
   "cell_type": "code",
   "execution_count": 6,
   "metadata": {},
   "outputs": [
    {
     "name": "stdout",
     "output_type": "stream",
     "text": [
      "1040\n",
      "up 968 down 72\n"
     ]
    },
    {
     "data": {
      "text/html": [
       "<div>\n",
       "<style scoped>\n",
       "    .dataframe tbody tr th:only-of-type {\n",
       "        vertical-align: middle;\n",
       "    }\n",
       "\n",
       "    .dataframe tbody tr th {\n",
       "        vertical-align: top;\n",
       "    }\n",
       "\n",
       "    .dataframe thead th {\n",
       "        text-align: right;\n",
       "    }\n",
       "</style>\n",
       "<table border=\"1\" class=\"dataframe\">\n",
       "  <thead>\n",
       "    <tr style=\"text-align: right;\">\n",
       "      <th></th>\n",
       "      <th>Gene</th>\n",
       "      <th>baseMean</th>\n",
       "      <th>log2FoldChange</th>\n",
       "      <th>lfcSE</th>\n",
       "      <th>stat</th>\n",
       "      <th>pvalue</th>\n",
       "      <th>padj</th>\n",
       "      <th>X21dpiR1C.trimmed</th>\n",
       "      <th>X21dpiR3C.trimmed</th>\n",
       "      <th>X21dpiR1T.trimmed</th>\n",
       "      <th>X21dpiR3T.trimmed</th>\n",
       "    </tr>\n",
       "  </thead>\n",
       "  <tbody>\n",
       "    <tr>\n",
       "      <th>0</th>\n",
       "      <td>Cluster_29435</td>\n",
       "      <td>313.360910</td>\n",
       "      <td>5.278747</td>\n",
       "      <td>0.411619</td>\n",
       "      <td>12.824353</td>\n",
       "      <td>1.197821e-37</td>\n",
       "      <td>5.854469e-33</td>\n",
       "      <td>10.394437</td>\n",
       "      <td>21.349693</td>\n",
       "      <td>692.392088</td>\n",
       "      <td>529.307423</td>\n",
       "    </tr>\n",
       "    <tr>\n",
       "      <th>1</th>\n",
       "      <td>Cluster_31849</td>\n",
       "      <td>334.626721</td>\n",
       "      <td>4.758261</td>\n",
       "      <td>0.377961</td>\n",
       "      <td>12.589304</td>\n",
       "      <td>2.417961e-36</td>\n",
       "      <td>5.909014e-32</td>\n",
       "      <td>18.709987</td>\n",
       "      <td>29.215369</td>\n",
       "      <td>747.594191</td>\n",
       "      <td>542.987336</td>\n",
       "    </tr>\n",
       "    <tr>\n",
       "      <th>2</th>\n",
       "      <td>Cluster_20629</td>\n",
       "      <td>282.656275</td>\n",
       "      <td>4.507678</td>\n",
       "      <td>0.368887</td>\n",
       "      <td>12.219668</td>\n",
       "      <td>2.440782e-34</td>\n",
       "      <td>3.976522e-30</td>\n",
       "      <td>20.788874</td>\n",
       "      <td>26.968033</td>\n",
       "      <td>600.914318</td>\n",
       "      <td>481.953876</td>\n",
       "    </tr>\n",
       "  </tbody>\n",
       "</table>\n",
       "</div>"
      ],
      "text/plain": [
       "            Gene    baseMean  log2FoldChange     lfcSE       stat  \\\n",
       "0  Cluster_29435  313.360910        5.278747  0.411619  12.824353   \n",
       "1  Cluster_31849  334.626721        4.758261  0.377961  12.589304   \n",
       "2  Cluster_20629  282.656275        4.507678  0.368887  12.219668   \n",
       "\n",
       "         pvalue          padj  X21dpiR1C.trimmed  X21dpiR3C.trimmed  \\\n",
       "0  1.197821e-37  5.854469e-33          10.394437          21.349693   \n",
       "1  2.417961e-36  5.909014e-32          18.709987          29.215369   \n",
       "2  2.440782e-34  3.976522e-30          20.788874          26.968033   \n",
       "\n",
       "   X21dpiR1T.trimmed  X21dpiR3T.trimmed  \n",
       "0         692.392088         529.307423  \n",
       "1         747.594191         542.987336  \n",
       "2         600.914318         481.953876  "
      ]
     },
     "execution_count": 6,
     "metadata": {},
     "output_type": "execute_result"
    }
   ],
   "source": [
    "#load sRNA clusters DAT\n",
    "df_dats_srna = pd.read_csv(path_dats_srna, sep=',')\n",
    "print(len(df_dats_srna.index))\n",
    "\n",
    "up = len(df_dats_srna[df_dats_srna.log2FoldChange > 0].index)\n",
    "down = len(df_dats_srna[df_dats_srna.log2FoldChange < 0].index)\n",
    "print('up',up,'down',down)\n",
    "df_dats_srna.head(3)"
   ]
  },
  {
   "cell_type": "code",
   "execution_count": null,
   "metadata": {},
   "outputs": [],
   "source": []
  },
  {
   "cell_type": "code",
   "execution_count": 7,
   "metadata": {},
   "outputs": [
    {
     "name": "stdout",
     "output_type": "stream",
     "text": [
      "2573211\n"
     ]
    }
   ],
   "source": [
    "#load all genomic features\n",
    "df_genes_features = pd.read_csv(path_ann,sep=\"\\t\", header=None, comment='#')\n",
    "df_genes_features.columns = ['seqname' , 'source' , 'feature' , 'start' , 'end' , 'score' , 'strand' , 'frame' , 'attribute']\n",
    "print(len(df_genes_features.index))\n"
   ]
  },
  {
   "cell_type": "code",
   "execution_count": 8,
   "metadata": {},
   "outputs": [
    {
     "name": "stdout",
     "output_type": "stream",
     "text": [
      "120744\n"
     ]
    }
   ],
   "source": [
    "#filter only 120k genes\n",
    "df_genes = df_genes_features[(df_genes_features.feature == 'gene') | (df_genes_features.feature == 'ncRNA_gene')]\n",
    "print(len(df_genes.index))"
   ]
  },
  {
   "cell_type": "code",
   "execution_count": 9,
   "metadata": {},
   "outputs": [
    {
     "name": "stderr",
     "output_type": "stream",
     "text": [
      "/home/juan/Desktop/juan/bio/venv/lib/python3.6/site-packages/ipykernel_launcher.py:2: SettingWithCopyWarning: \n",
      "A value is trying to be set on a copy of a slice from a DataFrame.\n",
      "Try using .loc[row_indexer,col_indexer] = value instead\n",
      "\n",
      "See the caveats in the documentation: http://pandas.pydata.org/pandas-docs/stable/indexing.html#indexing-view-versus-copy\n",
      "  \n",
      "/home/juan/Desktop/juan/bio/venv/lib/python3.6/site-packages/ipykernel_launcher.py:3: SettingWithCopyWarning: \n",
      "A value is trying to be set on a copy of a slice from a DataFrame.\n",
      "Try using .loc[row_indexer,col_indexer] = value instead\n",
      "\n",
      "See the caveats in the documentation: http://pandas.pydata.org/pandas-docs/stable/indexing.html#indexing-view-versus-copy\n",
      "  This is separate from the ipykernel package so we can avoid doing imports until\n"
     ]
    },
    {
     "data": {
      "text/html": [
       "<div>\n",
       "<style scoped>\n",
       "    .dataframe tbody tr th:only-of-type {\n",
       "        vertical-align: middle;\n",
       "    }\n",
       "\n",
       "    .dataframe tbody tr th {\n",
       "        vertical-align: top;\n",
       "    }\n",
       "\n",
       "    .dataframe thead th {\n",
       "        text-align: right;\n",
       "    }\n",
       "</style>\n",
       "<table border=\"1\" class=\"dataframe\">\n",
       "  <thead>\n",
       "    <tr style=\"text-align: right;\">\n",
       "      <th></th>\n",
       "      <th>seqname</th>\n",
       "      <th>source</th>\n",
       "      <th>feature</th>\n",
       "      <th>start</th>\n",
       "      <th>end</th>\n",
       "      <th>score</th>\n",
       "      <th>strand</th>\n",
       "      <th>frame</th>\n",
       "      <th>attribute</th>\n",
       "      <th>gene</th>\n",
       "    </tr>\n",
       "  </thead>\n",
       "  <tbody>\n",
       "    <tr>\n",
       "      <th>0</th>\n",
       "      <td>1A</td>\n",
       "      <td>Ensembl_Plants</td>\n",
       "      <td>ncRNA_gene</td>\n",
       "      <td>200</td>\n",
       "      <td>1683</td>\n",
       "      <td>.</td>\n",
       "      <td>+</td>\n",
       "      <td>.</td>\n",
       "      <td>ID=gene:ENSRNA050013875;Name=LSU_rRNA_eukarya;...</td>\n",
       "      <td>ENSRNA050013875</td>\n",
       "    </tr>\n",
       "    <tr>\n",
       "      <th>3</th>\n",
       "      <td>1A</td>\n",
       "      <td>Ensembl_Plants</td>\n",
       "      <td>ncRNA_gene</td>\n",
       "      <td>5023</td>\n",
       "      <td>6833</td>\n",
       "      <td>.</td>\n",
       "      <td>+</td>\n",
       "      <td>.</td>\n",
       "      <td>ID=gene:ENSRNA050013847;Name=SSU_rRNA_eukarya;...</td>\n",
       "      <td>ENSRNA050013847</td>\n",
       "    </tr>\n",
       "  </tbody>\n",
       "</table>\n",
       "</div>"
      ],
      "text/plain": [
       "  seqname          source     feature  start   end score strand frame  \\\n",
       "0      1A  Ensembl_Plants  ncRNA_gene    200  1683     .      +     .   \n",
       "3      1A  Ensembl_Plants  ncRNA_gene   5023  6833     .      +     .   \n",
       "\n",
       "                                           attribute             gene  \n",
       "0  ID=gene:ENSRNA050013875;Name=LSU_rRNA_eukarya;...  ENSRNA050013875  \n",
       "3  ID=gene:ENSRNA050013847;Name=SSU_rRNA_eukarya;...  ENSRNA050013847  "
      ]
     },
     "execution_count": 9,
     "metadata": {},
     "output_type": "execute_result"
    }
   ],
   "source": [
    "#get gene name in annotation\n",
    "df_genes['gene'] = df_genes.attribute.str.split('gene:').str[1]\n",
    "df_genes['gene'] = df_genes.gene.str.split(';').str[0]\n",
    "df_genes.head(2)"
   ]
  },
  {
   "cell_type": "code",
   "execution_count": 10,
   "metadata": {},
   "outputs": [
    {
     "data": {
      "text/plain": [
       "3019"
      ]
     },
     "execution_count": 10,
     "metadata": {},
     "output_type": "execute_result"
    }
   ],
   "source": [
    "df_dat_gene_list = df_dats_genes.gene.tolist()\n",
    "len(df_dat_gene_list)"
   ]
  },
  {
   "cell_type": "code",
   "execution_count": 11,
   "metadata": {},
   "outputs": [
    {
     "name": "stdout",
     "output_type": "stream",
     "text": [
      "3019\n"
     ]
    }
   ],
   "source": [
    "df_genes = df_genes[df_genes.gene.isin(df_dat_gene_list)]\n",
    "print(len(df_genes.index))"
   ]
  },
  {
   "cell_type": "code",
   "execution_count": 12,
   "metadata": {},
   "outputs": [
    {
     "data": {
      "text/html": [
       "<div>\n",
       "<style scoped>\n",
       "    .dataframe tbody tr th:only-of-type {\n",
       "        vertical-align: middle;\n",
       "    }\n",
       "\n",
       "    .dataframe tbody tr th {\n",
       "        vertical-align: top;\n",
       "    }\n",
       "\n",
       "    .dataframe thead th {\n",
       "        text-align: right;\n",
       "    }\n",
       "</style>\n",
       "<table border=\"1\" class=\"dataframe\">\n",
       "  <thead>\n",
       "    <tr style=\"text-align: right;\">\n",
       "      <th></th>\n",
       "      <th>seqname</th>\n",
       "      <th>source</th>\n",
       "      <th>feature</th>\n",
       "      <th>start</th>\n",
       "      <th>end</th>\n",
       "      <th>score</th>\n",
       "      <th>strand</th>\n",
       "      <th>frame</th>\n",
       "      <th>attribute</th>\n",
       "      <th>gene</th>\n",
       "    </tr>\n",
       "  </thead>\n",
       "  <tbody>\n",
       "    <tr>\n",
       "      <th>862</th>\n",
       "      <td>1A</td>\n",
       "      <td>IWGSC</td>\n",
       "      <td>gene</td>\n",
       "      <td>1188844</td>\n",
       "      <td>1190864</td>\n",
       "      <td>.</td>\n",
       "      <td>+</td>\n",
       "      <td>.</td>\n",
       "      <td>ID=gene:TraesCS1A02G002200;biotype=protein_cod...</td>\n",
       "      <td>TraesCS1A02G002200</td>\n",
       "    </tr>\n",
       "  </tbody>\n",
       "</table>\n",
       "</div>"
      ],
      "text/plain": [
       "    seqname source feature    start      end score strand frame  \\\n",
       "862      1A  IWGSC    gene  1188844  1190864     .      +     .   \n",
       "\n",
       "                                             attribute                gene  \n",
       "862  ID=gene:TraesCS1A02G002200;biotype=protein_cod...  TraesCS1A02G002200  "
      ]
     },
     "execution_count": 12,
     "metadata": {},
     "output_type": "execute_result"
    }
   ],
   "source": [
    "df_genes.head(1)"
   ]
  },
  {
   "cell_type": "code",
   "execution_count": 13,
   "metadata": {},
   "outputs": [
    {
     "name": "stdout",
     "output_type": "stream",
     "text": [
      "371496\n"
     ]
    }
   ],
   "source": [
    "#load GO terms\n",
    "df_terms = pd.read_csv(path_terms,sep=\",\", comment='#')\n",
    "print(len(df_terms.index))\n"
   ]
  },
  {
   "cell_type": "code",
   "execution_count": 14,
   "metadata": {},
   "outputs": [
    {
     "data": {
      "text/html": [
       "<div>\n",
       "<style scoped>\n",
       "    .dataframe tbody tr th:only-of-type {\n",
       "        vertical-align: middle;\n",
       "    }\n",
       "\n",
       "    .dataframe tbody tr th {\n",
       "        vertical-align: top;\n",
       "    }\n",
       "\n",
       "    .dataframe thead th {\n",
       "        text-align: right;\n",
       "    }\n",
       "</style>\n",
       "<table border=\"1\" class=\"dataframe\">\n",
       "  <thead>\n",
       "    <tr style=\"text-align: right;\">\n",
       "      <th></th>\n",
       "      <th>Gene stable ID</th>\n",
       "      <th>GO term accession</th>\n",
       "      <th>GO term name</th>\n",
       "      <th>GO domain</th>\n",
       "      <th>Transcript stable ID</th>\n",
       "    </tr>\n",
       "  </thead>\n",
       "  <tbody>\n",
       "    <tr>\n",
       "      <th>0</th>\n",
       "      <td>TraesCS4A02G403700</td>\n",
       "      <td>NaN</td>\n",
       "      <td>NaN</td>\n",
       "      <td>NaN</td>\n",
       "      <td>TraesCS4A02G403700.1</td>\n",
       "    </tr>\n",
       "    <tr>\n",
       "      <th>1</th>\n",
       "      <td>TraesCS3A02G154800</td>\n",
       "      <td>GO:0047617</td>\n",
       "      <td>acyl-CoA hydrolase activity</td>\n",
       "      <td>molecular_function</td>\n",
       "      <td>TraesCS3A02G154800.1</td>\n",
       "    </tr>\n",
       "    <tr>\n",
       "      <th>2</th>\n",
       "      <td>TraesCS2B02G516800</td>\n",
       "      <td>GO:0004553</td>\n",
       "      <td>hydrolase activity, hydrolyzing O-glycosyl com...</td>\n",
       "      <td>molecular_function</td>\n",
       "      <td>TraesCS2B02G516800.1</td>\n",
       "    </tr>\n",
       "  </tbody>\n",
       "</table>\n",
       "</div>"
      ],
      "text/plain": [
       "       Gene stable ID GO term accession  \\\n",
       "0  TraesCS4A02G403700               NaN   \n",
       "1  TraesCS3A02G154800        GO:0047617   \n",
       "2  TraesCS2B02G516800        GO:0004553   \n",
       "\n",
       "                                        GO term name           GO domain  \\\n",
       "0                                                NaN                 NaN   \n",
       "1                        acyl-CoA hydrolase activity  molecular_function   \n",
       "2  hydrolase activity, hydrolyzing O-glycosyl com...  molecular_function   \n",
       "\n",
       "   Transcript stable ID  \n",
       "0  TraesCS4A02G403700.1  \n",
       "1  TraesCS3A02G154800.1  \n",
       "2  TraesCS2B02G516800.1  "
      ]
     },
     "execution_count": 14,
     "metadata": {},
     "output_type": "execute_result"
    }
   ],
   "source": [
    "df_terms.head(3)"
   ]
  },
  {
   "cell_type": "code",
   "execution_count": 15,
   "metadata": {},
   "outputs": [],
   "source": [
    "df_genes_annotated = pd.merge(df_genes, df_terms,how='left',left_on='gene',right_on='Gene stable ID')"
   ]
  },
  {
   "cell_type": "code",
   "execution_count": 16,
   "metadata": {},
   "outputs": [
    {
     "name": "stdout",
     "output_type": "stream",
     "text": [
      "13190\n"
     ]
    }
   ],
   "source": [
    "print(len(df_genes_annotated.index))"
   ]
  },
  {
   "cell_type": "code",
   "execution_count": 17,
   "metadata": {},
   "outputs": [
    {
     "data": {
      "text/plain": [
       "membrane                                                     663\n",
       "integral component of membrane                               628\n",
       "protein binding                                              341\n",
       "oxidation-reduction process                                  309\n",
       "ATP binding                                                  294\n",
       "translation                                                  247\n",
       "structural constituent of ribosome                           236\n",
       "ribosome                                                     235\n",
       "metal ion binding                                            220\n",
       "hydrolase activity                                           207\n",
       "intracellular                                                198\n",
       "nucleus                                                      197\n",
       "oxidoreductase activity                                      196\n",
       "DNA binding                                                  189\n",
       "nucleotide binding                                           185\n",
       "catalytic activity                                           184\n",
       "transmembrane transport                                      182\n",
       "regulation of transcription, DNA-templated                   181\n",
       "transferase activity                                         171\n",
       "carbohydrate metabolic process                               163\n",
       "protein kinase activity                                      124\n",
       "protein phosphorylation                                      124\n",
       "cytoplasm                                                    116\n",
       "RNA binding                                                  112\n",
       "hydrolase activity, hydrolyzing O-glycosyl compounds         110\n",
       "zinc ion binding                                              96\n",
       "transferase activity, transferring glycosyl groups            91\n",
       "DNA-binding transcription factor activity                     86\n",
       "transmembrane transporter activity                            79\n",
       "calcium ion binding                                           75\n",
       "                                                            ... \n",
       "cortical microtubule                                           1\n",
       "brassinosteroid mediated signaling pathway                     1\n",
       "diphosphoinositol-pentakisphosphate kinase activity            1\n",
       "zinc ion homeostasis                                           1\n",
       "regulation of secondary cell wall biogenesis                   1\n",
       "lipoyl(octanoyl) transferase activity                          1\n",
       "primary miRNA processing                                       1\n",
       "nitrogen compound metabolic process                            1\n",
       "defense response to virus                                      1\n",
       "quinolinate biosynthetic process                               1\n",
       "Rho GDP-dissociation inhibitor activity                        1\n",
       "1-aminocyclopropane-1-carboxylate synthase activity            1\n",
       "endoplasmic reticulum to Golgi vesicle-mediated transport      1\n",
       "mitochondrial envelope                                         1\n",
       "nucleobase-containing compound metabolic process               1\n",
       "UV protection                                                  1\n",
       "DNA helicase activity                                          1\n",
       "response to nematode                                           1\n",
       "positive regulation of gene expression                         1\n",
       "regulation of rRNA processing                                  1\n",
       "sodium:proton antiporter activity                              1\n",
       "positive regulation of cell population proliferation           1\n",
       "enzyme activator activity                                      1\n",
       "actin filament bundle                                          1\n",
       "diphosphomevalonate decarboxylase activity                     1\n",
       "chlorophyll metabolic process                                  1\n",
       "positive regulation of respiratory burst                       1\n",
       "carbon-sulfur lyase activity                                   1\n",
       "pectin catabolic process                                       1\n",
       "transcription factor binding                                   1\n",
       "Name: GO term name, Length: 1169, dtype: int64"
      ]
     },
     "execution_count": 17,
     "metadata": {},
     "output_type": "execute_result"
    }
   ],
   "source": [
    "df_genes_annotated['GO term name'].value_counts()"
   ]
  },
  {
   "cell_type": "code",
   "execution_count": 18,
   "metadata": {},
   "outputs": [
    {
     "data": {
      "text/plain": [
       "'data/ss/ShortStack_All.gff3'"
      ]
     },
     "execution_count": 18,
     "metadata": {},
     "output_type": "execute_result"
    }
   ],
   "source": [
    "path_srna"
   ]
  },
  {
   "cell_type": "code",
   "execution_count": 19,
   "metadata": {},
   "outputs": [
    {
     "name": "stdout",
     "output_type": "stream",
     "text": [
      "48876\n"
     ]
    }
   ],
   "source": [
    "#load all sRNA clusters\n",
    "df_srna = pd.read_csv(path_srna,sep=\"\\t\", header=None, comment='#')\n",
    "df_srna.columns = ['seqname' , 'source' , 'feature' , 'start' , 'end' , 'score' , 'strand' , 'frame' , 'attribute']\n",
    "print(len(df_srna.index))\n"
   ]
  },
  {
   "cell_type": "code",
   "execution_count": 20,
   "metadata": {},
   "outputs": [
    {
     "data": {
      "text/html": [
       "<div>\n",
       "<style scoped>\n",
       "    .dataframe tbody tr th:only-of-type {\n",
       "        vertical-align: middle;\n",
       "    }\n",
       "\n",
       "    .dataframe tbody tr th {\n",
       "        vertical-align: top;\n",
       "    }\n",
       "\n",
       "    .dataframe thead th {\n",
       "        text-align: right;\n",
       "    }\n",
       "</style>\n",
       "<table border=\"1\" class=\"dataframe\">\n",
       "  <thead>\n",
       "    <tr style=\"text-align: right;\">\n",
       "      <th></th>\n",
       "      <th>seqname</th>\n",
       "      <th>source</th>\n",
       "      <th>feature</th>\n",
       "      <th>start</th>\n",
       "      <th>end</th>\n",
       "      <th>score</th>\n",
       "      <th>strand</th>\n",
       "      <th>frame</th>\n",
       "      <th>attribute</th>\n",
       "    </tr>\n",
       "  </thead>\n",
       "  <tbody>\n",
       "    <tr>\n",
       "      <th>0</th>\n",
       "      <td>1A</td>\n",
       "      <td>ShortStack</td>\n",
       "      <td>nc_RNA</td>\n",
       "      <td>1</td>\n",
       "      <td>579</td>\n",
       "      <td>.</td>\n",
       "      <td>+</td>\n",
       "      <td>.</td>\n",
       "      <td>ID=Cluster_1;DicerCall=N;MIRNA=N;</td>\n",
       "    </tr>\n",
       "    <tr>\n",
       "      <th>1</th>\n",
       "      <td>1A</td>\n",
       "      <td>ShortStack</td>\n",
       "      <td>nc_RNA</td>\n",
       "      <td>688</td>\n",
       "      <td>753</td>\n",
       "      <td>.</td>\n",
       "      <td>+</td>\n",
       "      <td>.</td>\n",
       "      <td>ID=Cluster_2;DicerCall=N;MIRNA=N;</td>\n",
       "    </tr>\n",
       "    <tr>\n",
       "      <th>2</th>\n",
       "      <td>1A</td>\n",
       "      <td>ShortStack</td>\n",
       "      <td>nc_RNA</td>\n",
       "      <td>1381</td>\n",
       "      <td>1641</td>\n",
       "      <td>.</td>\n",
       "      <td>+</td>\n",
       "      <td>.</td>\n",
       "      <td>ID=Cluster_3;DicerCall=N;MIRNA=N;</td>\n",
       "    </tr>\n",
       "  </tbody>\n",
       "</table>\n",
       "</div>"
      ],
      "text/plain": [
       "  seqname      source feature  start   end score strand frame  \\\n",
       "0      1A  ShortStack  nc_RNA      1   579     .      +     .   \n",
       "1      1A  ShortStack  nc_RNA    688   753     .      +     .   \n",
       "2      1A  ShortStack  nc_RNA   1381  1641     .      +     .   \n",
       "\n",
       "                           attribute  \n",
       "0  ID=Cluster_1;DicerCall=N;MIRNA=N;  \n",
       "1  ID=Cluster_2;DicerCall=N;MIRNA=N;  \n",
       "2  ID=Cluster_3;DicerCall=N;MIRNA=N;  "
      ]
     },
     "execution_count": 20,
     "metadata": {},
     "output_type": "execute_result"
    }
   ],
   "source": [
    "df_srna.head(3)"
   ]
  },
  {
   "cell_type": "code",
   "execution_count": 21,
   "metadata": {},
   "outputs": [
    {
     "data": {
      "text/html": [
       "<div>\n",
       "<style scoped>\n",
       "    .dataframe tbody tr th:only-of-type {\n",
       "        vertical-align: middle;\n",
       "    }\n",
       "\n",
       "    .dataframe tbody tr th {\n",
       "        vertical-align: top;\n",
       "    }\n",
       "\n",
       "    .dataframe thead th {\n",
       "        text-align: right;\n",
       "    }\n",
       "</style>\n",
       "<table border=\"1\" class=\"dataframe\">\n",
       "  <thead>\n",
       "    <tr style=\"text-align: right;\">\n",
       "      <th></th>\n",
       "      <th>seqname</th>\n",
       "      <th>source</th>\n",
       "      <th>feature</th>\n",
       "      <th>start</th>\n",
       "      <th>end</th>\n",
       "      <th>score</th>\n",
       "      <th>strand</th>\n",
       "      <th>frame</th>\n",
       "      <th>attribute</th>\n",
       "      <th>cluster</th>\n",
       "    </tr>\n",
       "  </thead>\n",
       "  <tbody>\n",
       "    <tr>\n",
       "      <th>0</th>\n",
       "      <td>1A</td>\n",
       "      <td>ShortStack</td>\n",
       "      <td>nc_RNA</td>\n",
       "      <td>1</td>\n",
       "      <td>579</td>\n",
       "      <td>.</td>\n",
       "      <td>+</td>\n",
       "      <td>.</td>\n",
       "      <td>ID=Cluster_1;DicerCall=N;MIRNA=N;</td>\n",
       "      <td>Cluster_1</td>\n",
       "    </tr>\n",
       "    <tr>\n",
       "      <th>1</th>\n",
       "      <td>1A</td>\n",
       "      <td>ShortStack</td>\n",
       "      <td>nc_RNA</td>\n",
       "      <td>688</td>\n",
       "      <td>753</td>\n",
       "      <td>.</td>\n",
       "      <td>+</td>\n",
       "      <td>.</td>\n",
       "      <td>ID=Cluster_2;DicerCall=N;MIRNA=N;</td>\n",
       "      <td>Cluster_2</td>\n",
       "    </tr>\n",
       "  </tbody>\n",
       "</table>\n",
       "</div>"
      ],
      "text/plain": [
       "  seqname      source feature  start  end score strand frame  \\\n",
       "0      1A  ShortStack  nc_RNA      1  579     .      +     .   \n",
       "1      1A  ShortStack  nc_RNA    688  753     .      +     .   \n",
       "\n",
       "                           attribute    cluster  \n",
       "0  ID=Cluster_1;DicerCall=N;MIRNA=N;  Cluster_1  \n",
       "1  ID=Cluster_2;DicerCall=N;MIRNA=N;  Cluster_2  "
      ]
     },
     "execution_count": 21,
     "metadata": {},
     "output_type": "execute_result"
    }
   ],
   "source": [
    "#get cluster name in annotation\n",
    "df_srna['cluster'] = df_srna.attribute.str.split('ID=').str[1]\n",
    "df_srna['cluster'] = df_srna.cluster.str.split(';').str[0]\n",
    "df_srna.head(2)"
   ]
  },
  {
   "cell_type": "code",
   "execution_count": 22,
   "metadata": {},
   "outputs": [],
   "source": [
    "dats_srna_list = df_dats_srna.Gene.tolist()"
   ]
  },
  {
   "cell_type": "code",
   "execution_count": 23,
   "metadata": {},
   "outputs": [
    {
     "name": "stdout",
     "output_type": "stream",
     "text": [
      "1040\n"
     ]
    }
   ],
   "source": [
    "df_srna = df_srna[df_srna.cluster.isin(dats_srna_list)]\n",
    "print(len(df_srna.index))"
   ]
  },
  {
   "cell_type": "code",
   "execution_count": 24,
   "metadata": {},
   "outputs": [
    {
     "data": {
      "text/html": [
       "<div>\n",
       "<style scoped>\n",
       "    .dataframe tbody tr th:only-of-type {\n",
       "        vertical-align: middle;\n",
       "    }\n",
       "\n",
       "    .dataframe tbody tr th {\n",
       "        vertical-align: top;\n",
       "    }\n",
       "\n",
       "    .dataframe thead th {\n",
       "        text-align: right;\n",
       "    }\n",
       "</style>\n",
       "<table border=\"1\" class=\"dataframe\">\n",
       "  <thead>\n",
       "    <tr style=\"text-align: right;\">\n",
       "      <th></th>\n",
       "      <th>seqname</th>\n",
       "      <th>source</th>\n",
       "      <th>feature</th>\n",
       "      <th>start</th>\n",
       "      <th>end</th>\n",
       "      <th>score</th>\n",
       "      <th>strand</th>\n",
       "      <th>frame</th>\n",
       "      <th>attribute</th>\n",
       "      <th>cluster</th>\n",
       "    </tr>\n",
       "  </thead>\n",
       "  <tbody>\n",
       "    <tr>\n",
       "      <th>9</th>\n",
       "      <td>1A</td>\n",
       "      <td>ShortStack</td>\n",
       "      <td>nc_RNA</td>\n",
       "      <td>13008</td>\n",
       "      <td>13270</td>\n",
       "      <td>.</td>\n",
       "      <td>+</td>\n",
       "      <td>.</td>\n",
       "      <td>ID=Cluster_10;DicerCall=N;MIRNA=N;</td>\n",
       "      <td>Cluster_10</td>\n",
       "    </tr>\n",
       "    <tr>\n",
       "      <th>17</th>\n",
       "      <td>1A</td>\n",
       "      <td>ShortStack</td>\n",
       "      <td>nc_RNA</td>\n",
       "      <td>22500</td>\n",
       "      <td>23028</td>\n",
       "      <td>.</td>\n",
       "      <td>+</td>\n",
       "      <td>.</td>\n",
       "      <td>ID=Cluster_18;DicerCall=N;MIRNA=N;</td>\n",
       "      <td>Cluster_18</td>\n",
       "    </tr>\n",
       "    <tr>\n",
       "      <th>19</th>\n",
       "      <td>1A</td>\n",
       "      <td>ShortStack</td>\n",
       "      <td>nc_RNA</td>\n",
       "      <td>24053</td>\n",
       "      <td>24383</td>\n",
       "      <td>.</td>\n",
       "      <td>+</td>\n",
       "      <td>.</td>\n",
       "      <td>ID=Cluster_20;DicerCall=N;MIRNA=N;</td>\n",
       "      <td>Cluster_20</td>\n",
       "    </tr>\n",
       "  </tbody>\n",
       "</table>\n",
       "</div>"
      ],
      "text/plain": [
       "   seqname      source feature  start    end score strand frame  \\\n",
       "9       1A  ShortStack  nc_RNA  13008  13270     .      +     .   \n",
       "17      1A  ShortStack  nc_RNA  22500  23028     .      +     .   \n",
       "19      1A  ShortStack  nc_RNA  24053  24383     .      +     .   \n",
       "\n",
       "                             attribute     cluster  \n",
       "9   ID=Cluster_10;DicerCall=N;MIRNA=N;  Cluster_10  \n",
       "17  ID=Cluster_18;DicerCall=N;MIRNA=N;  Cluster_18  \n",
       "19  ID=Cluster_20;DicerCall=N;MIRNA=N;  Cluster_20  "
      ]
     },
     "execution_count": 24,
     "metadata": {},
     "output_type": "execute_result"
    }
   ],
   "source": [
    "df_srna.head(3)"
   ]
  },
  {
   "cell_type": "code",
   "execution_count": null,
   "metadata": {},
   "outputs": [
    {
     "name": "stdout",
     "output_type": "stream",
     "text": [
      "TraesCS1A02G349000 534257473 534263600 Cluster_13067 534259353 534259617\n",
      "TraesCS1A02G369600 547296939 547305624 Cluster_1805 547300625 547301643\n",
      "TraesCS1B02G021300 9836479 9846002 Cluster_16093 9844088 9844104\n",
      "TraesCS1B02G273100 480325176 480329193 Cluster_12864 480324955 480325607\n",
      "TraesCS1D02G119300 115569662 115575921 Cluster_36726 115573942 115574035\n",
      "TraesCS1D02G222600 310138953 310146633 Cluster_4941 310144102 310145003\n",
      "TraesCS1D02G353100 438366891 438372879 Cluster_5514 438370209 438370986\n",
      "TraesCS1D02G452300 493928351 493935505 Cluster_6044 493929912 493930246\n",
      "TraesCS2A02G117700 67979065 67983293 Cluster_6567 67981431 67981863\n",
      "TraesCS2A02G125500 74134323 74141390 Cluster_45331 74133850 74134987\n",
      "TraesCS2A02G176000 135190255 135198661 Cluster_6831 135196247 135196983\n",
      "TraesCS2A02G264800 420224178 420229187 Cluster_5395 420225864 420226364\n",
      "TraesCS2A02G525500 745665377 745672618 Cluster_8427 745666955 745667922\n",
      "TraesCS2A02G525500 745665377 745672618 Cluster_8428 745668419 745669198\n",
      "TraesCS2A02G525500 745665377 745672618 Cluster_8429 745669457 745669721\n",
      "TraesCS2A02G525500 745665377 745672618 Cluster_8430 745669826 745670265\n",
      "TraesCS2A02G525500 745665377 745672618 Cluster_8431 745670349 745671101\n",
      "TraesCS2B02G137700 104579030 104583147 Cluster_9191 104581192 104581751\n",
      "TraesCS2B02G555400 750010208 750019991 Cluster_10855 750013636 750014671\n",
      "TraesCS2B02G555400 750010208 750019991 Cluster_10856 750014973 750015267\n",
      "TraesCS2B02G555400 750010208 750019991 Cluster_10857 750015372 750016084\n",
      "TraesCS2B02G555400 750010208 750019991 Cluster_10858 750016208 750016442\n",
      "TraesCS2B02G555400 750010208 750019991 Cluster_10859 750016962 750017641\n",
      "TraesCS2D02G316200 405414344 405423143 Cluster_12539 405415815 405416125\n",
      "TraesCS2D02G316200 405414344 405423143 Cluster_12540 405417710 405417825\n",
      "TraesCS2D02G316200 405414344 405423143 Cluster_12541 405418115 405418305\n",
      "TraesCS2D02G316200 405414344 405423143 Cluster_12542 405420843 405421329\n",
      "TraesCS2D02G376100 480321849 480327115 Cluster_12864 480324955 480325607\n",
      "TraesCS2D02G528500 616148455 616156565 Cluster_13557 616150042 616151011\n",
      "TraesCS2D02G528500 616148455 616156565 Cluster_13558 616151550 616151838\n",
      "TraesCS2D02G528500 616148455 616156565 Cluster_13559 616151926 616152317\n",
      "TraesCS2D02G528500 616148455 616156565 Cluster_13560 616152850 616153353\n",
      "TraesCS2D02G528500 616148455 616156565 Cluster_13561 616153623 616155042\n",
      "TraesCS3A02G107800 72669118 72674436 Cluster_14220 72672180 72672447\n",
      "TraesCS3A02G220600 408023655 408034731 Cluster_48573 408024150 408024409\n",
      "TraesCS3A02G344000 593340388 593348891 Cluster_24529 593347153 593347265\n",
      "TraesCS3A02G416800 659038119 659042069 Cluster_15593 659040022 659040543\n",
      "TraesCS3A02G500000 724643517 724655250 Cluster_10773 724650714 724651099\n",
      "TraesCS3B02G037500 18241943 18250304 Cluster_44920 18245425 18245949\n",
      "TraesCS3B02G181300 189486941 189492199 Cluster_16635 189488444 189489852\n",
      "TraesCS3B02G181300 189486941 189492199 Cluster_16636 189490368 189490694\n",
      "TraesCS3B02G193200 207450516 207462259 Cluster_41170 207460619 207460659\n",
      "TraesCS3B02G561700 795174885 795179860 Cluster_18183 795176396 795178386\n",
      "TraesCS3D02G052100 21326825 21330576 Cluster_18514 21328269 21329092\n",
      "TraesCS3D02G162500 133104916 133110217 Cluster_19022 133107099 133107540\n",
      "TraesCS3D02G325400 438262668 438267878 Cluster_41589 438263240 438263256\n",
      "TraesCS3D02G392900 508078013 508085509 Cluster_46698 508084640 508084756\n",
      "TraesCS3D02G505400 592901415 592905872 Cluster_20629 592902714 592904633\n",
      "TraesCS3D02G505500 592901427 592906058 Cluster_20629 592902714 592904633\n",
      "TraesCS4A02G050500 41110258 41117297 Cluster_32046 41116348 41116461\n",
      "TraesCS4A02G061800 58568516 58573346 Cluster_21050 58570069 58570951\n",
      "TraesCS4A02G105300 119081826 119090941 Cluster_16483 119082710 119082944\n",
      "TraesCS4A02G431300 702041690 702047961 Cluster_22824 702044178 702044793\n",
      "TraesCS4A02G431300 702041690 702047961 Cluster_22825 702045641 702046201\n",
      "TraesCS4A02G485400 739063235 739070057 Cluster_22939 739066193 739066908\n",
      "TraesCS4A02G485400 739063235 739070057 Cluster_22940 739067291 739068249\n",
      "TraesCS4B02G235000 490665776 490671522 Cluster_24212 490669570 490670267\n",
      "TraesCS4B02G237500 495146483 495151297 Cluster_24230 495148809 495149747\n",
      "TraesCS4B02G348600 642096390 642103512 Cluster_24780 642097904 642098337\n",
      "TraesCS4B02G348600 642096390 642103512 Cluster_24781 642098598 642099590\n",
      "TraesCS4B02G348600 642096390 642103512 Cluster_24782 642099676 642100120\n",
      "TraesCS4B02G348600 642096390 642103512 Cluster_24783 642100231 642100892\n",
      "TraesCS4B02G348600 642096390 642103512 Cluster_24784 642100969 642102056\n",
      "TraesCS4B02G363700 652287072 652293039 Cluster_24836 652288165 652289105\n",
      "TraesCS4D02G197100 341693297 341699268 Cluster_26058 341694928 341695993\n",
      "TraesCS4D02G238800 400925455 400929903 Cluster_26251 400927277 400927982\n",
      "TraesCS4D02G343000 499300957 499307757 Cluster_26819 499303686 499304540\n",
      "TraesCS4D02G343000 499300957 499307757 Cluster_26820 499304906 499305085\n",
      "TraesCS4D02G343000 499300957 499307757 Cluster_26821 499305157 499306304\n",
      "TraesCS4D02G351400 503257610 503265909 Cluster_34102 503262700 503262985\n",
      "TraesCS4D02G357100 505432175 505438630 Cluster_26878 505433588 505434208\n",
      "TraesCS4D02G357100 505432175 505438630 Cluster_26879 505436593 505437174\n",
      "TraesCS5A02G007900 4954791 4961412 Cluster_26943 4956340 4957889\n",
      "TraesCS5A02G007900 4954791 4961412 Cluster_26944 4958105 4959892\n",
      "TraesCS5A02G024900 19266804 19275520 Cluster_27016 19268373 19268962\n",
      "TraesCS5A02G024900 19266804 19275520 Cluster_27017 19270016 19270880\n",
      "TraesCS5A02G313000 524215790 524220309 Cluster_24331 524219277 524219317\n",
      "TraesCS5A02G365700 565655168 565662467 Cluster_20457 565659939 565660221\n",
      "TraesCS5A02G501000 666732419 666740378 Cluster_29104 666735631 666735688\n",
      "TraesCS5B02G006500 7704577 7711332 Cluster_29435 7706153 7707756\n",
      "TraesCS5B02G006500 7704577 7711332 Cluster_29436 7707906 7708708\n",
      "TraesCS5B02G006500 7704577 7711332 Cluster_29437 7708798 7709815\n",
      "TraesCS5B02G022800 21179206 21188094 Cluster_29491 21184901 21185326\n",
      "TraesCS5B02G115000 190114971 190127966 Cluster_14520 190119549 190119628\n",
      "TraesCS5B02G418200 593941557 593947723 Cluster_31146 593942997 593943879\n",
      "TraesCS5B02G481800 654747933 654753313 Cluster_10570 654748438 654748550\n",
      "TraesCS5D02G013400 7499791 7506431 Cluster_31849 7501359 7502967\n",
      "TraesCS5D02G013400 7499791 7506431 Cluster_31850 7503058 7504265\n",
      "TraesCS5D02G013400 7499791 7506431 Cluster_31851 7504408 7504917\n",
      "TraesCS5D02G031300 28665154 28672866 Cluster_32004 28666633 28668049\n",
      "TraesCS5D02G031300 28665154 28672866 Cluster_32005 28668325 28669241\n",
      "TraesCS5D02G031300 28665154 28672866 Cluster_32006 28669322 28669720\n",
      "TraesCS5D02G423400 483368712 483374579 Cluster_33928 483370289 483371403\n",
      "TraesCS5D02G423400 483368712 483374579 Cluster_33929 483372097 483372418\n",
      "TraesCS5D02G562000 562060993 562065908 Cluster_24422 562063359 562063378\n",
      "TraesCS5D02G568400 565657224 565661383 Cluster_20457 565659939 565660221\n",
      "TraesCS6A02G042600 22441002 22458609 Cluster_34649 22442645 22443389\n",
      "TraesCS6A02G282200 512335389 512341491 Cluster_35728 512338024 512338505\n",
      "TraesCS6A02G374600 597338414 597344814 Cluster_24543 597339915 597340010\n",
      "TraesCS6B02G129800 126216256 126222688 Cluster_36775 126219102 126220114\n",
      "TraesCS6B02G160400 164355912 164362069 Cluster_36894 164357439 164358058\n",
      "TraesCS6B02G160400 164355912 164362069 Cluster_36895 164358139 164360634\n",
      "TraesCS6B02G193400 228237778 228244599 Cluster_37046 228240280 228240512\n",
      "TraesCS6B02G243700 433677166 433683201 Cluster_37401 433682439 433682806\n",
      "TraesCS6D02G090200 56017972 56024458 Cluster_38685 56020775 56021879\n"
     ]
    }
   ],
   "source": [
    "#merge DATs genes with DAT clusters\n",
    "span = 1500\n",
    "gene_cluster = []\n",
    "gene_overlapped = []\n",
    "for k_g,v_g in df_genes.iterrows():\n",
    "    g_start = max(0, v_g.start - span)\n",
    "    g_end = min(g_ends[v_g.seqname], v_g.end + span)\n",
    "    g_strand = v_g.strand\n",
    "    for k_s, v_s in df_srna.iterrows():\n",
    "        s_start = v_s.start\n",
    "        s_end = v_s.end\n",
    "        if s_end >= g_start and s_start <= g_end:\n",
    "            print(v_g.gene, g_start, g_end, v_s.cluster, s_start, s_end)\n",
    "            gene_cluster.append( (v_g.gene, v_s.cluster) )\n",
    "            gene_overlapped.append(v_g.gene)"
   ]
  },
  {
   "cell_type": "code",
   "execution_count": null,
   "metadata": {},
   "outputs": [],
   "source": []
  },
  {
   "cell_type": "code",
   "execution_count": null,
   "metadata": {},
   "outputs": [],
   "source": [
    "df_genes_with_clusters = df_genes_annotated[df_genes_annotated.gene.isin(gene_overlapped)]"
   ]
  },
  {
   "cell_type": "code",
   "execution_count": null,
   "metadata": {},
   "outputs": [],
   "source": [
    "df_genes_with_clusters['GO term name'].value_counts()"
   ]
  },
  {
   "cell_type": "code",
   "execution_count": null,
   "metadata": {},
   "outputs": [],
   "source": []
  }
 ],
 "metadata": {
  "kernelspec": {
   "display_name": "Python 3",
   "language": "python",
   "name": "python3"
  },
  "language_info": {
   "codemirror_mode": {
    "name": "ipython",
    "version": 3
   },
   "file_extension": ".py",
   "mimetype": "text/x-python",
   "name": "python",
   "nbconvert_exporter": "python",
   "pygments_lexer": "ipython3",
   "version": "3.6.5"
  }
 },
 "nbformat": 4,
 "nbformat_minor": 2
}
